{
 "cells": [
  {
   "cell_type": "markdown",
   "id": "c4605c58",
   "metadata": {},
   "source": [
    "# Import Libraries"
   ]
  },
  {
   "cell_type": "code",
   "execution_count": 1,
   "id": "224553cb",
   "metadata": {},
   "outputs": [],
   "source": [
    "#Import Libraries\n",
    "import pandas as pd\n",
    "import numpy as np\n",
    "import os"
   ]
  },
  {
   "cell_type": "markdown",
   "id": "c1768a8f",
   "metadata": {},
   "source": [
    "# 02. Data Types"
   ]
  },
  {
   "cell_type": "code",
   "execution_count": 2,
   "id": "1ad86f27",
   "metadata": {},
   "outputs": [],
   "source": [
    "# code 3 different ways of reaching 100 by adding or subtracting numeric variables.\n",
    "x = 50 + 50\n",
    "y = 200 - 100\n",
    "z = 99 + 1"
   ]
  },
  {
   "cell_type": "code",
   "execution_count": 3,
   "id": "ffef33ac",
   "metadata": {},
   "outputs": [
    {
     "name": "stdout",
     "output_type": "stream",
     "text": [
      "100\n"
     ]
    }
   ],
   "source": [
    "print(x)"
   ]
  },
  {
   "cell_type": "code",
   "execution_count": 4,
   "id": "5ea1fa1a",
   "metadata": {},
   "outputs": [
    {
     "name": "stdout",
     "output_type": "stream",
     "text": [
      "100\n"
     ]
    }
   ],
   "source": [
    "print(y)"
   ]
  },
  {
   "cell_type": "code",
   "execution_count": 5,
   "id": "be2372eb",
   "metadata": {},
   "outputs": [
    {
     "name": "stdout",
     "output_type": "stream",
     "text": [
      "100\n"
     ]
    }
   ],
   "source": [
    "print(z)"
   ]
  },
  {
   "cell_type": "code",
   "execution_count": 6,
   "id": "a5090c88",
   "metadata": {},
   "outputs": [],
   "source": [
    "# Code 2 floating-point variables and divide them by each other"
   ]
  },
  {
   "cell_type": "code",
   "execution_count": 7,
   "id": "757a61c0",
   "metadata": {},
   "outputs": [],
   "source": [
    "a = 1.5\n",
    "b = 4.279"
   ]
  },
  {
   "cell_type": "code",
   "execution_count": 8,
   "id": "2501948d",
   "metadata": {},
   "outputs": [
    {
     "data": {
      "text/plain": [
       "2.8526666666666665"
      ]
     },
     "execution_count": 8,
     "metadata": {},
     "output_type": "execute_result"
    }
   ],
   "source": [
    "b / a"
   ]
  },
  {
   "cell_type": "code",
   "execution_count": 9,
   "id": "1aa6438b",
   "metadata": {},
   "outputs": [],
   "source": [
    "# Contruct a short word made of seperate strings"
   ]
  },
  {
   "cell_type": "code",
   "execution_count": 10,
   "id": "48c9d120",
   "metadata": {},
   "outputs": [
    {
     "data": {
      "text/plain": [
       "'playstation'"
      ]
     },
     "execution_count": 10,
     "metadata": {},
     "output_type": "execute_result"
    }
   ],
   "source": [
    "c = 'play'\n",
    "d = 'station'\n",
    "c + d"
   ]
  },
  {
   "cell_type": "code",
   "execution_count": 11,
   "id": "3828b422",
   "metadata": {},
   "outputs": [],
   "source": [
    "# Contruct 2 short sentences made of seperate strings."
   ]
  },
  {
   "cell_type": "code",
   "execution_count": 13,
   "id": "8bcef1fe",
   "metadata": {},
   "outputs": [
    {
     "data": {
      "text/plain": [
       "'PC is better than console.'"
      ]
     },
     "execution_count": 13,
     "metadata": {},
     "output_type": "execute_result"
    }
   ],
   "source": [
    "e = 'PC is better '\n",
    "f = 'than console.'\n",
    "g = 'Here is my '\n",
    "h = 'two cents'\n",
    "e + f"
   ]
  },
  {
   "cell_type": "code",
   "execution_count": 14,
   "id": "8e202b2f",
   "metadata": {},
   "outputs": [
    {
     "data": {
      "text/plain": [
       "'Here is my two cents'"
      ]
     },
     "execution_count": 14,
     "metadata": {},
     "output_type": "execute_result"
    }
   ],
   "source": [
    "g + h"
   ]
  },
  {
   "cell_type": "code",
   "execution_count": null,
   "id": "5b299eb9",
   "metadata": {},
   "outputs": [],
   "source": []
  }
 ],
 "metadata": {
  "kernelspec": {
   "display_name": "Python 3 (ipykernel)",
   "language": "python",
   "name": "python3"
  },
  "language_info": {
   "codemirror_mode": {
    "name": "ipython",
    "version": 3
   },
   "file_extension": ".py",
   "mimetype": "text/x-python",
   "name": "python",
   "nbconvert_exporter": "python",
   "pygments_lexer": "ipython3",
   "version": "3.9.13"
  }
 },
 "nbformat": 4,
 "nbformat_minor": 5
}
