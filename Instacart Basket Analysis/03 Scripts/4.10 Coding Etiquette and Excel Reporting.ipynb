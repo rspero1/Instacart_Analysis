{
 "cells": [
  {
   "cell_type": "markdown",
   "id": "93df0ab9",
   "metadata": {},
   "source": [
    "# 4.10 Coding Etiqutte and Excel Reporting"
   ]
  },
  {
   "cell_type": "markdown",
   "id": "16b109e4",
   "metadata": {},
   "source": [
    "# Table of Contents for this Script\n",
    "# 1. Import Libraries and Data\n",
    "# 2. Consider security implications\n",
    "# 3. Create regional segmentation of data\n",
    "# 4. Create an exclusion flag for low activity customers\n",
    "# 5. Create a profiling variable based on age, income, certain goods in the 'department_id' column, and number of dependents\n",
    "# 6. Create an apprpriate vizualizations to show the distribution of profiles\n",
    "# 7. Aggregate the max, mean, and min variables for usage frequency and expenditure\n",
    "# 8. Compare customer profile with regions and departments\n",
    "# 9. Produce suitable charts to illustrate results"
   ]
  },
  {
   "cell_type": "markdown",
   "id": "7a392b23",
   "metadata": {},
   "source": [
    "# 01 Import libraries and data"
   ]
  },
  {
   "cell_type": "code",
   "execution_count": 1,
   "id": "19c6c314",
   "metadata": {},
   "outputs": [],
   "source": [
    "#import libraries\n",
    "import pandas as pd\n",
    "import numpy as np\n",
    "import os\n",
    "import matplotlib.pyplot as plt\n",
    "import seaborn as sns\n",
    "import scipy"
   ]
  },
  {
   "cell_type": "code",
   "execution_count": 2,
   "id": "dd6fa796",
   "metadata": {},
   "outputs": [],
   "source": [
    "#import data and create path\n",
    "path = r'C:\\Users\\Spero\\Documents\\Instacart Basket Analysis'"
   ]
  },
  {
   "cell_type": "code",
   "execution_count": 3,
   "id": "4fadc4b3",
   "metadata": {},
   "outputs": [],
   "source": [
    "df = pd.read_pickle(os.path.join(path, '02 Data', 'Prepared Data', 'df_ords_prods_cus_merged.pkl'))"
   ]
  },
  {
   "cell_type": "markdown",
   "id": "14f2f13b",
   "metadata": {},
   "source": [
    "#  02 consider security implications"
   ]
  },
  {
   "cell_type": "code",
   "execution_count": 4,
   "id": "0cdefe90",
   "metadata": {},
   "outputs": [
    {
     "data": {
      "text/html": [
       "<div>\n",
       "<style scoped>\n",
       "    .dataframe tbody tr th:only-of-type {\n",
       "        vertical-align: middle;\n",
       "    }\n",
       "\n",
       "    .dataframe tbody tr th {\n",
       "        vertical-align: top;\n",
       "    }\n",
       "\n",
       "    .dataframe thead th {\n",
       "        text-align: right;\n",
       "    }\n",
       "</style>\n",
       "<table border=\"1\" class=\"dataframe\">\n",
       "  <thead>\n",
       "    <tr style=\"text-align: right;\">\n",
       "      <th></th>\n",
       "      <th>order_id</th>\n",
       "      <th>user_id</th>\n",
       "      <th>order_number</th>\n",
       "      <th>orders_day_of_week</th>\n",
       "      <th>order_hour_of_day</th>\n",
       "      <th>days_since_prior_order</th>\n",
       "      <th>new_customer</th>\n",
       "      <th>product_id</th>\n",
       "      <th>add_to_cart_order</th>\n",
       "      <th>reordered</th>\n",
       "      <th>...</th>\n",
       "      <th>frequency_flag</th>\n",
       "      <th>first_name</th>\n",
       "      <th>last_name</th>\n",
       "      <th>gender</th>\n",
       "      <th>state</th>\n",
       "      <th>age</th>\n",
       "      <th>date_joined</th>\n",
       "      <th>no_of_dependents</th>\n",
       "      <th>marital_status</th>\n",
       "      <th>income</th>\n",
       "    </tr>\n",
       "  </thead>\n",
       "  <tbody>\n",
       "    <tr>\n",
       "      <th>0</th>\n",
       "      <td>2539329</td>\n",
       "      <td>1</td>\n",
       "      <td>1</td>\n",
       "      <td>2</td>\n",
       "      <td>8</td>\n",
       "      <td>NaN</td>\n",
       "      <td>True</td>\n",
       "      <td>196</td>\n",
       "      <td>1</td>\n",
       "      <td>0</td>\n",
       "      <td>...</td>\n",
       "      <td>Non-fruquent customer</td>\n",
       "      <td>Linda</td>\n",
       "      <td>Nguyen</td>\n",
       "      <td>Female</td>\n",
       "      <td>Alabama</td>\n",
       "      <td>31</td>\n",
       "      <td>2/17/2019</td>\n",
       "      <td>3</td>\n",
       "      <td>married</td>\n",
       "      <td>40423</td>\n",
       "    </tr>\n",
       "    <tr>\n",
       "      <th>1</th>\n",
       "      <td>2398795</td>\n",
       "      <td>1</td>\n",
       "      <td>2</td>\n",
       "      <td>3</td>\n",
       "      <td>7</td>\n",
       "      <td>15.0</td>\n",
       "      <td>False</td>\n",
       "      <td>196</td>\n",
       "      <td>1</td>\n",
       "      <td>1</td>\n",
       "      <td>...</td>\n",
       "      <td>Non-fruquent customer</td>\n",
       "      <td>Linda</td>\n",
       "      <td>Nguyen</td>\n",
       "      <td>Female</td>\n",
       "      <td>Alabama</td>\n",
       "      <td>31</td>\n",
       "      <td>2/17/2019</td>\n",
       "      <td>3</td>\n",
       "      <td>married</td>\n",
       "      <td>40423</td>\n",
       "    </tr>\n",
       "    <tr>\n",
       "      <th>2</th>\n",
       "      <td>473747</td>\n",
       "      <td>1</td>\n",
       "      <td>3</td>\n",
       "      <td>3</td>\n",
       "      <td>12</td>\n",
       "      <td>21.0</td>\n",
       "      <td>False</td>\n",
       "      <td>196</td>\n",
       "      <td>1</td>\n",
       "      <td>1</td>\n",
       "      <td>...</td>\n",
       "      <td>Non-fruquent customer</td>\n",
       "      <td>Linda</td>\n",
       "      <td>Nguyen</td>\n",
       "      <td>Female</td>\n",
       "      <td>Alabama</td>\n",
       "      <td>31</td>\n",
       "      <td>2/17/2019</td>\n",
       "      <td>3</td>\n",
       "      <td>married</td>\n",
       "      <td>40423</td>\n",
       "    </tr>\n",
       "    <tr>\n",
       "      <th>3</th>\n",
       "      <td>2254736</td>\n",
       "      <td>1</td>\n",
       "      <td>4</td>\n",
       "      <td>4</td>\n",
       "      <td>7</td>\n",
       "      <td>29.0</td>\n",
       "      <td>False</td>\n",
       "      <td>196</td>\n",
       "      <td>1</td>\n",
       "      <td>1</td>\n",
       "      <td>...</td>\n",
       "      <td>Non-fruquent customer</td>\n",
       "      <td>Linda</td>\n",
       "      <td>Nguyen</td>\n",
       "      <td>Female</td>\n",
       "      <td>Alabama</td>\n",
       "      <td>31</td>\n",
       "      <td>2/17/2019</td>\n",
       "      <td>3</td>\n",
       "      <td>married</td>\n",
       "      <td>40423</td>\n",
       "    </tr>\n",
       "    <tr>\n",
       "      <th>4</th>\n",
       "      <td>431534</td>\n",
       "      <td>1</td>\n",
       "      <td>5</td>\n",
       "      <td>4</td>\n",
       "      <td>15</td>\n",
       "      <td>28.0</td>\n",
       "      <td>False</td>\n",
       "      <td>196</td>\n",
       "      <td>1</td>\n",
       "      <td>1</td>\n",
       "      <td>...</td>\n",
       "      <td>Non-fruquent customer</td>\n",
       "      <td>Linda</td>\n",
       "      <td>Nguyen</td>\n",
       "      <td>Female</td>\n",
       "      <td>Alabama</td>\n",
       "      <td>31</td>\n",
       "      <td>2/17/2019</td>\n",
       "      <td>3</td>\n",
       "      <td>married</td>\n",
       "      <td>40423</td>\n",
       "    </tr>\n",
       "  </tbody>\n",
       "</table>\n",
       "<p>5 rows × 35 columns</p>\n",
       "</div>"
      ],
      "text/plain": [
       "   order_id  user_id  order_number  orders_day_of_week  order_hour_of_day  \\\n",
       "0   2539329        1             1                   2                  8   \n",
       "1   2398795        1             2                   3                  7   \n",
       "2    473747        1             3                   3                 12   \n",
       "3   2254736        1             4                   4                  7   \n",
       "4    431534        1             5                   4                 15   \n",
       "\n",
       "   days_since_prior_order  new_customer  product_id  add_to_cart_order  \\\n",
       "0                     NaN          True         196                  1   \n",
       "1                    15.0         False         196                  1   \n",
       "2                    21.0         False         196                  1   \n",
       "3                    29.0         False         196                  1   \n",
       "4                    28.0         False         196                  1   \n",
       "\n",
       "   reordered  ...         frequency_flag  first_name  last_name  gender  \\\n",
       "0          0  ...  Non-fruquent customer       Linda     Nguyen  Female   \n",
       "1          1  ...  Non-fruquent customer       Linda     Nguyen  Female   \n",
       "2          1  ...  Non-fruquent customer       Linda     Nguyen  Female   \n",
       "3          1  ...  Non-fruquent customer       Linda     Nguyen  Female   \n",
       "4          1  ...  Non-fruquent customer       Linda     Nguyen  Female   \n",
       "\n",
       "     state age date_joined no_of_dependents marital_status income  \n",
       "0  Alabama  31   2/17/2019                3        married  40423  \n",
       "1  Alabama  31   2/17/2019                3        married  40423  \n",
       "2  Alabama  31   2/17/2019                3        married  40423  \n",
       "3  Alabama  31   2/17/2019                3        married  40423  \n",
       "4  Alabama  31   2/17/2019                3        married  40423  \n",
       "\n",
       "[5 rows x 35 columns]"
      ]
     },
     "execution_count": 4,
     "metadata": {},
     "output_type": "execute_result"
    }
   ],
   "source": [
    "df.head()"
   ]
  },
  {
   "cell_type": "markdown",
   "id": "e5eacdd1",
   "metadata": {},
   "source": [
    "# The data merged from the customer data set has PII data including names and salary."
   ]
  },
  {
   "cell_type": "markdown",
   "id": "eacc7155",
   "metadata": {},
   "source": [
    "# 03 Create regional Segmantation of the data. Determine whether there is a difference in spending habits between the different US regions."
   ]
  },
  {
   "cell_type": "code",
   "execution_count": 5,
   "id": "3bcac599",
   "metadata": {},
   "outputs": [],
   "source": [
    "# create regions based off the region list provided\n",
    "Region = []\n",
    "for value in df['state']:\n",
    "    if value == 'Maine' or value == 'New Hampshire' or value == 'Massachusetts' or value == 'Rhode Island' or value == 'Connecticut' or value == 'New York' or value == 'Pennsylvania' or value == 'New Jersey':\n",
    "        Region.append('North East')\n",
    "    elif value == 'Wisconsin' or value == 'Michigan' or value == 'Illinois' or value == 'Indiana' or value == 'Ohio' or value == 'North Dakota' or value == 'South Dakota' or value == 'Nebraska' or value == 'Kansas' or value == 'Minnesota' or value == 'Iowa' or value == 'Missouri':\n",
    "        Region.append('Midwest')\n",
    "    elif value == 'Delaware' or value == 'Maryland' or value == 'District of Columbia' or value == 'Virginia' or value == 'West Virginia' or value == 'North Carolina' or value == 'South Carolina' or value == 'Georgia' or value == 'Florida' or value == 'Kentucky' or value == 'Tennessee' or value == 'Mississippi' or value == 'Alabama' or value == 'Oklahoma' or value == 'Texas' or value == 'Arkansas' or value == 'Louisiana':\n",
    "        Region.append('South')\n",
    "    else:\n",
    "        Region.append('West')"
   ]
  },
  {
   "cell_type": "code",
   "execution_count": 6,
   "id": "5faf0787",
   "metadata": {},
   "outputs": [],
   "source": [
    "#creation column for region and assigning the Region list values to it\n",
    "df['region'] = Region"
   ]
  },
  {
   "cell_type": "code",
   "execution_count": 7,
   "id": "243ffe4f",
   "metadata": {},
   "outputs": [
    {
     "data": {
      "text/html": [
       "<div>\n",
       "<style scoped>\n",
       "    .dataframe tbody tr th:only-of-type {\n",
       "        vertical-align: middle;\n",
       "    }\n",
       "\n",
       "    .dataframe tbody tr th {\n",
       "        vertical-align: top;\n",
       "    }\n",
       "\n",
       "    .dataframe thead th {\n",
       "        text-align: right;\n",
       "    }\n",
       "</style>\n",
       "<table border=\"1\" class=\"dataframe\">\n",
       "  <thead>\n",
       "    <tr style=\"text-align: right;\">\n",
       "      <th></th>\n",
       "      <th>order_id</th>\n",
       "      <th>user_id</th>\n",
       "      <th>order_number</th>\n",
       "      <th>orders_day_of_week</th>\n",
       "      <th>order_hour_of_day</th>\n",
       "      <th>days_since_prior_order</th>\n",
       "      <th>new_customer</th>\n",
       "      <th>product_id</th>\n",
       "      <th>add_to_cart_order</th>\n",
       "      <th>reordered</th>\n",
       "      <th>...</th>\n",
       "      <th>first_name</th>\n",
       "      <th>last_name</th>\n",
       "      <th>gender</th>\n",
       "      <th>state</th>\n",
       "      <th>age</th>\n",
       "      <th>date_joined</th>\n",
       "      <th>no_of_dependents</th>\n",
       "      <th>marital_status</th>\n",
       "      <th>income</th>\n",
       "      <th>region</th>\n",
       "    </tr>\n",
       "  </thead>\n",
       "  <tbody>\n",
       "    <tr>\n",
       "      <th>0</th>\n",
       "      <td>2539329</td>\n",
       "      <td>1</td>\n",
       "      <td>1</td>\n",
       "      <td>2</td>\n",
       "      <td>8</td>\n",
       "      <td>NaN</td>\n",
       "      <td>True</td>\n",
       "      <td>196</td>\n",
       "      <td>1</td>\n",
       "      <td>0</td>\n",
       "      <td>...</td>\n",
       "      <td>Linda</td>\n",
       "      <td>Nguyen</td>\n",
       "      <td>Female</td>\n",
       "      <td>Alabama</td>\n",
       "      <td>31</td>\n",
       "      <td>2/17/2019</td>\n",
       "      <td>3</td>\n",
       "      <td>married</td>\n",
       "      <td>40423</td>\n",
       "      <td>South</td>\n",
       "    </tr>\n",
       "    <tr>\n",
       "      <th>1</th>\n",
       "      <td>2398795</td>\n",
       "      <td>1</td>\n",
       "      <td>2</td>\n",
       "      <td>3</td>\n",
       "      <td>7</td>\n",
       "      <td>15.0</td>\n",
       "      <td>False</td>\n",
       "      <td>196</td>\n",
       "      <td>1</td>\n",
       "      <td>1</td>\n",
       "      <td>...</td>\n",
       "      <td>Linda</td>\n",
       "      <td>Nguyen</td>\n",
       "      <td>Female</td>\n",
       "      <td>Alabama</td>\n",
       "      <td>31</td>\n",
       "      <td>2/17/2019</td>\n",
       "      <td>3</td>\n",
       "      <td>married</td>\n",
       "      <td>40423</td>\n",
       "      <td>South</td>\n",
       "    </tr>\n",
       "    <tr>\n",
       "      <th>2</th>\n",
       "      <td>473747</td>\n",
       "      <td>1</td>\n",
       "      <td>3</td>\n",
       "      <td>3</td>\n",
       "      <td>12</td>\n",
       "      <td>21.0</td>\n",
       "      <td>False</td>\n",
       "      <td>196</td>\n",
       "      <td>1</td>\n",
       "      <td>1</td>\n",
       "      <td>...</td>\n",
       "      <td>Linda</td>\n",
       "      <td>Nguyen</td>\n",
       "      <td>Female</td>\n",
       "      <td>Alabama</td>\n",
       "      <td>31</td>\n",
       "      <td>2/17/2019</td>\n",
       "      <td>3</td>\n",
       "      <td>married</td>\n",
       "      <td>40423</td>\n",
       "      <td>South</td>\n",
       "    </tr>\n",
       "    <tr>\n",
       "      <th>3</th>\n",
       "      <td>2254736</td>\n",
       "      <td>1</td>\n",
       "      <td>4</td>\n",
       "      <td>4</td>\n",
       "      <td>7</td>\n",
       "      <td>29.0</td>\n",
       "      <td>False</td>\n",
       "      <td>196</td>\n",
       "      <td>1</td>\n",
       "      <td>1</td>\n",
       "      <td>...</td>\n",
       "      <td>Linda</td>\n",
       "      <td>Nguyen</td>\n",
       "      <td>Female</td>\n",
       "      <td>Alabama</td>\n",
       "      <td>31</td>\n",
       "      <td>2/17/2019</td>\n",
       "      <td>3</td>\n",
       "      <td>married</td>\n",
       "      <td>40423</td>\n",
       "      <td>South</td>\n",
       "    </tr>\n",
       "    <tr>\n",
       "      <th>4</th>\n",
       "      <td>431534</td>\n",
       "      <td>1</td>\n",
       "      <td>5</td>\n",
       "      <td>4</td>\n",
       "      <td>15</td>\n",
       "      <td>28.0</td>\n",
       "      <td>False</td>\n",
       "      <td>196</td>\n",
       "      <td>1</td>\n",
       "      <td>1</td>\n",
       "      <td>...</td>\n",
       "      <td>Linda</td>\n",
       "      <td>Nguyen</td>\n",
       "      <td>Female</td>\n",
       "      <td>Alabama</td>\n",
       "      <td>31</td>\n",
       "      <td>2/17/2019</td>\n",
       "      <td>3</td>\n",
       "      <td>married</td>\n",
       "      <td>40423</td>\n",
       "      <td>South</td>\n",
       "    </tr>\n",
       "  </tbody>\n",
       "</table>\n",
       "<p>5 rows × 36 columns</p>\n",
       "</div>"
      ],
      "text/plain": [
       "   order_id  user_id  order_number  orders_day_of_week  order_hour_of_day  \\\n",
       "0   2539329        1             1                   2                  8   \n",
       "1   2398795        1             2                   3                  7   \n",
       "2    473747        1             3                   3                 12   \n",
       "3   2254736        1             4                   4                  7   \n",
       "4    431534        1             5                   4                 15   \n",
       "\n",
       "   days_since_prior_order  new_customer  product_id  add_to_cart_order  \\\n",
       "0                     NaN          True         196                  1   \n",
       "1                    15.0         False         196                  1   \n",
       "2                    21.0         False         196                  1   \n",
       "3                    29.0         False         196                  1   \n",
       "4                    28.0         False         196                  1   \n",
       "\n",
       "   reordered  ... first_name  last_name  gender    state age date_joined  \\\n",
       "0          0  ...      Linda     Nguyen  Female  Alabama  31   2/17/2019   \n",
       "1          1  ...      Linda     Nguyen  Female  Alabama  31   2/17/2019   \n",
       "2          1  ...      Linda     Nguyen  Female  Alabama  31   2/17/2019   \n",
       "3          1  ...      Linda     Nguyen  Female  Alabama  31   2/17/2019   \n",
       "4          1  ...      Linda     Nguyen  Female  Alabama  31   2/17/2019   \n",
       "\n",
       "  no_of_dependents marital_status income region  \n",
       "0                3        married  40423  South  \n",
       "1                3        married  40423  South  \n",
       "2                3        married  40423  South  \n",
       "3                3        married  40423  South  \n",
       "4                3        married  40423  South  \n",
       "\n",
       "[5 rows x 36 columns]"
      ]
     },
     "execution_count": 7,
     "metadata": {},
     "output_type": "execute_result"
    }
   ],
   "source": [
    "#checking to see if new region column has been added properly\n",
    "df.head()"
   ]
  },
  {
   "cell_type": "code",
   "execution_count": 8,
   "id": "522fc119",
   "metadata": {},
   "outputs": [
    {
     "data": {
      "text/plain": [
       "32404859"
      ]
     },
     "execution_count": 8,
     "metadata": {},
     "output_type": "execute_result"
    }
   ],
   "source": [
    "len(df['region'])"
   ]
  },
  {
   "cell_type": "markdown",
   "id": "678fb930",
   "metadata": {},
   "source": [
    "# Determine wether there's a difference in spending habbits between the different U.S. regions. "
   ]
  },
  {
   "cell_type": "code",
   "execution_count": 9,
   "id": "696dd3a0",
   "metadata": {},
   "outputs": [
    {
     "data": {
      "text/html": [
       "<div>\n",
       "<style scoped>\n",
       "    .dataframe tbody tr th:only-of-type {\n",
       "        vertical-align: middle;\n",
       "    }\n",
       "\n",
       "    .dataframe tbody tr th {\n",
       "        vertical-align: top;\n",
       "    }\n",
       "\n",
       "    .dataframe thead th {\n",
       "        text-align: right;\n",
       "    }\n",
       "</style>\n",
       "<table border=\"1\" class=\"dataframe\">\n",
       "  <thead>\n",
       "    <tr style=\"text-align: right;\">\n",
       "      <th>region</th>\n",
       "      <th>Midwest</th>\n",
       "      <th>North East</th>\n",
       "      <th>South</th>\n",
       "      <th>West</th>\n",
       "    </tr>\n",
       "    <tr>\n",
       "      <th>spender_flag</th>\n",
       "      <th></th>\n",
       "      <th></th>\n",
       "      <th></th>\n",
       "      <th></th>\n",
       "    </tr>\n",
       "  </thead>\n",
       "  <tbody>\n",
       "    <tr>\n",
       "      <th>High spender</th>\n",
       "      <td>155975</td>\n",
       "      <td>94768</td>\n",
       "      <td>209691</td>\n",
       "      <td>173811</td>\n",
       "    </tr>\n",
       "    <tr>\n",
       "      <th>Low spender</th>\n",
       "      <td>7441350</td>\n",
       "      <td>5016243</td>\n",
       "      <td>10582194</td>\n",
       "      <td>8730827</td>\n",
       "    </tr>\n",
       "  </tbody>\n",
       "</table>\n",
       "</div>"
      ],
      "text/plain": [
       "region        Midwest  North East     South     West\n",
       "spender_flag                                        \n",
       "High spender   155975       94768    209691   173811\n",
       "Low spender   7441350     5016243  10582194  8730827"
      ]
     },
     "execution_count": 9,
     "metadata": {},
     "output_type": "execute_result"
    }
   ],
   "source": [
    "# cross spender_flag and region variables\n",
    "pd.crosstab(df['spender_flag'], df['region'])"
   ]
  },
  {
   "cell_type": "markdown",
   "id": "68cf73bb",
   "metadata": {},
   "source": [
    "# 04. Create an exclusion flag for low-activity customers (less than five orders) and exclude them from the data."
   ]
  },
  {
   "cell_type": "code",
   "execution_count": 10,
   "id": "1af4a2af",
   "metadata": {},
   "outputs": [],
   "source": [
    "# create activity exclusion flag\n",
    "df.loc[df['max_order'] < 5, 'activity_flag'] = 'low_activity'\n",
    "df.loc[df['max_order'] >= 5, 'activity_flag'] = 'high_activity'"
   ]
  },
  {
   "cell_type": "code",
   "execution_count": 11,
   "id": "6f20b07f",
   "metadata": {},
   "outputs": [
    {
     "data": {
      "text/plain": [
       "high_activity    30964564\n",
       "low_activity      1440295\n",
       "Name: activity_flag, dtype: int64"
      ]
     },
     "execution_count": 11,
     "metadata": {},
     "output_type": "execute_result"
    }
   ],
   "source": [
    "df['activity_flag'].value_counts(dropna = False)"
   ]
  },
  {
   "cell_type": "code",
   "execution_count": 12,
   "id": "3854a345",
   "metadata": {},
   "outputs": [],
   "source": [
    "# creatind dataframe without low_activity customers\n",
    "df2 = df.drop(df[df.max_order < 5].index)"
   ]
  },
  {
   "cell_type": "code",
   "execution_count": 13,
   "id": "027b4629",
   "metadata": {},
   "outputs": [
    {
     "data": {
      "text/plain": [
       "(30964564, 37)"
      ]
     },
     "execution_count": 13,
     "metadata": {},
     "output_type": "execute_result"
    }
   ],
   "source": [
    "df2.shape"
   ]
  },
  {
   "cell_type": "code",
   "execution_count": 14,
   "id": "ab4e407e",
   "metadata": {},
   "outputs": [],
   "source": [
    "#exporting new dataframe\n",
    "df2.to_pickle(os.path.join(path, '02 Data', 'Prepared Data', 'high_active_customers.pkl'))"
   ]
  },
  {
   "cell_type": "markdown",
   "id": "7c9cd049",
   "metadata": {},
   "source": [
    "# 05. Create a profiling variable based on age, income, certain goods in the 'department_id' column, and number of dependents"
   ]
  },
  {
   "cell_type": "code",
   "execution_count": 15,
   "id": "64db99c7",
   "metadata": {},
   "outputs": [],
   "source": [
    "#create a flag for customers with a family \n",
    "#by using department 18 because it contains baby products and no of dependents we can determine if families have younger children, older children, or no children\n",
    "df2.loc[(df['department_id']==18)&(df['no_of_dependents']>0), 'family_status'] = 'family with young children'\n",
    "df2.loc[(df['department_id']!=18)&(df['no_of_dependents']>0), 'family_status'] = 'family with older children'\n",
    "df2.loc[df['no_of_dependents']==0, 'family_status'] = 'no children'"
   ]
  },
  {
   "cell_type": "code",
   "execution_count": 16,
   "id": "f94ec20e",
   "metadata": {},
   "outputs": [
    {
     "data": {
      "text/plain": [
       "family with older children    22917819\n",
       "no children                    7739681\n",
       "family with young children      307064\n",
       "Name: family_status, dtype: int64"
      ]
     },
     "execution_count": 16,
     "metadata": {},
     "output_type": "execute_result"
    }
   ],
   "source": [
    "df2['family_status'].value_counts()"
   ]
  },
  {
   "cell_type": "code",
   "execution_count": 17,
   "id": "959419e3",
   "metadata": {},
   "outputs": [
    {
     "data": {
      "text/plain": [
       "30964564"
      ]
     },
     "execution_count": 17,
     "metadata": {},
     "output_type": "execute_result"
    }
   ],
   "source": [
    "#checking to see if number of entries matches dataframe\n",
    "len(df2['family_status'])"
   ]
  },
  {
   "cell_type": "code",
   "execution_count": 18,
   "id": "649dd887",
   "metadata": {},
   "outputs": [
    {
     "data": {
      "text/plain": [
       "30964564"
      ]
     },
     "execution_count": 18,
     "metadata": {},
     "output_type": "execute_result"
    }
   ],
   "source": [
    "len(df2)"
   ]
  },
  {
   "cell_type": "code",
   "execution_count": 19,
   "id": "baed4cac",
   "metadata": {},
   "outputs": [],
   "source": [
    "# create a flag for vegetarian status\n",
    "# dpartments 12 meat and seafood and 20 deli which usually contain meat and seafood are not vegetarian \n",
    "result2 = []\n",
    "for value in df2['department_id']:\n",
    "    if value in (12,20):\n",
    "        result2.append('not vegetarian')\n",
    "    else:\n",
    "        result2.append('vegetarian')"
   ]
  },
  {
   "cell_type": "code",
   "execution_count": 20,
   "id": "640005f5",
   "metadata": {},
   "outputs": [],
   "source": [
    "df2['vegetarian_status']=result2"
   ]
  },
  {
   "cell_type": "code",
   "execution_count": 21,
   "id": "105d3c92",
   "metadata": {},
   "outputs": [
    {
     "data": {
      "text/plain": [
       "vegetarian        29285949\n",
       "not vegetarian     1678615\n",
       "Name: vegetarian_status, dtype: int64"
      ]
     },
     "execution_count": 21,
     "metadata": {},
     "output_type": "execute_result"
    }
   ],
   "source": [
    "df2['vegetarian_status'].value_counts()"
   ]
  },
  {
   "cell_type": "code",
   "execution_count": 22,
   "id": "4c70558b",
   "metadata": {},
   "outputs": [],
   "source": [
    "# create a cloumn for age categories\n",
    "df2.loc[(df2['age']>=18)&(df2['age']<=29), 'age_category']= 'young adult'\n",
    "df2.loc[(df2['age']>=30)&(df2['age']<=45), 'age_category']= 'middle age adult'\n",
    "df2.loc[(df2['age']>=46)&(df2['age']<=59), 'age_category']= 'older adult'\n",
    "df2.loc[df2['age']>60, 'age_category']= 'senior'"
   ]
  },
  {
   "cell_type": "code",
   "execution_count": 23,
   "id": "72dd47f7",
   "metadata": {},
   "outputs": [
    {
     "data": {
      "text/plain": [
       "senior              10112607\n",
       "middle age adult     7749454\n",
       "older adult          6823003\n",
       "young adult          5817603\n",
       "Name: age_category, dtype: int64"
      ]
     },
     "execution_count": 23,
     "metadata": {},
     "output_type": "execute_result"
    }
   ],
   "source": [
    "df2['age_category'].value_counts()"
   ]
  },
  {
   "cell_type": "markdown",
   "id": "bba00872",
   "metadata": {},
   "source": [
    "# Grouping and aggregating"
   ]
  },
  {
   "cell_type": "code",
   "execution_count": 24,
   "id": "69b38f6d",
   "metadata": {},
   "outputs": [],
   "source": [
    "# create a frequency column based on days_since_prior_order\n",
    "df2['min_use_frequency']=df2.groupby(['user_id'])['days_since_prior_order'].transform(np.max)"
   ]
  },
  {
   "cell_type": "code",
   "execution_count": 25,
   "id": "c0ca1430",
   "metadata": {},
   "outputs": [
    {
     "data": {
      "text/plain": [
       "30964564"
      ]
     },
     "execution_count": 25,
     "metadata": {},
     "output_type": "execute_result"
    }
   ],
   "source": [
    "len(df2['min_use_frequency'])"
   ]
  },
  {
   "cell_type": "code",
   "execution_count": 26,
   "id": "8d6398f6",
   "metadata": {},
   "outputs": [],
   "source": [
    "df2['max_use_frequency']=df2.groupby(['user_id'])['days_since_prior_order'].transform(np.min)"
   ]
  },
  {
   "cell_type": "code",
   "execution_count": 27,
   "id": "c6c66334",
   "metadata": {},
   "outputs": [
    {
     "data": {
      "text/plain": [
       "30964564"
      ]
     },
     "execution_count": 27,
     "metadata": {},
     "output_type": "execute_result"
    }
   ],
   "source": [
    "len(df2['max_use_frequency'])"
   ]
  },
  {
   "cell_type": "code",
   "execution_count": 28,
   "id": "8ffd2310",
   "metadata": {},
   "outputs": [],
   "source": [
    "df2['avg_use_frequency']=df2.groupby(['user_id'])['days_since_prior_order'].transform(np.mean)"
   ]
  },
  {
   "cell_type": "code",
   "execution_count": 29,
   "id": "3ac19453",
   "metadata": {},
   "outputs": [
    {
     "data": {
      "text/plain": [
       "30964564"
      ]
     },
     "execution_count": 29,
     "metadata": {},
     "output_type": "execute_result"
    }
   ],
   "source": [
    "len(df2['avg_use_frequency'])"
   ]
  },
  {
   "cell_type": "code",
   "execution_count": 30,
   "id": "ed4fe83b",
   "metadata": {},
   "outputs": [
    {
     "data": {
      "text/html": [
       "<div>\n",
       "<style scoped>\n",
       "    .dataframe tbody tr th:only-of-type {\n",
       "        vertical-align: middle;\n",
       "    }\n",
       "\n",
       "    .dataframe tbody tr th {\n",
       "        vertical-align: top;\n",
       "    }\n",
       "\n",
       "    .dataframe thead th {\n",
       "        text-align: right;\n",
       "    }\n",
       "</style>\n",
       "<table border=\"1\" class=\"dataframe\">\n",
       "  <thead>\n",
       "    <tr style=\"text-align: right;\">\n",
       "      <th></th>\n",
       "      <th>order_id</th>\n",
       "      <th>user_id</th>\n",
       "      <th>order_number</th>\n",
       "      <th>orders_day_of_week</th>\n",
       "      <th>order_hour_of_day</th>\n",
       "      <th>days_since_prior_order</th>\n",
       "      <th>new_customer</th>\n",
       "      <th>product_id</th>\n",
       "      <th>add_to_cart_order</th>\n",
       "      <th>reordered</th>\n",
       "      <th>...</th>\n",
       "      <th>marital_status</th>\n",
       "      <th>income</th>\n",
       "      <th>region</th>\n",
       "      <th>activity_flag</th>\n",
       "      <th>family_status</th>\n",
       "      <th>vegetarian_status</th>\n",
       "      <th>age_category</th>\n",
       "      <th>min_use_frequency</th>\n",
       "      <th>max_use_frequency</th>\n",
       "      <th>avg_use_frequency</th>\n",
       "    </tr>\n",
       "  </thead>\n",
       "  <tbody>\n",
       "    <tr>\n",
       "      <th>0</th>\n",
       "      <td>2539329</td>\n",
       "      <td>1</td>\n",
       "      <td>1</td>\n",
       "      <td>2</td>\n",
       "      <td>8</td>\n",
       "      <td>NaN</td>\n",
       "      <td>True</td>\n",
       "      <td>196</td>\n",
       "      <td>1</td>\n",
       "      <td>0</td>\n",
       "      <td>...</td>\n",
       "      <td>married</td>\n",
       "      <td>40423</td>\n",
       "      <td>South</td>\n",
       "      <td>high_activity</td>\n",
       "      <td>family with older children</td>\n",
       "      <td>vegetarian</td>\n",
       "      <td>middle age adult</td>\n",
       "      <td>30.0</td>\n",
       "      <td>0.0</td>\n",
       "      <td>20.259259</td>\n",
       "    </tr>\n",
       "    <tr>\n",
       "      <th>1</th>\n",
       "      <td>2398795</td>\n",
       "      <td>1</td>\n",
       "      <td>2</td>\n",
       "      <td>3</td>\n",
       "      <td>7</td>\n",
       "      <td>15.0</td>\n",
       "      <td>False</td>\n",
       "      <td>196</td>\n",
       "      <td>1</td>\n",
       "      <td>1</td>\n",
       "      <td>...</td>\n",
       "      <td>married</td>\n",
       "      <td>40423</td>\n",
       "      <td>South</td>\n",
       "      <td>high_activity</td>\n",
       "      <td>family with older children</td>\n",
       "      <td>vegetarian</td>\n",
       "      <td>middle age adult</td>\n",
       "      <td>30.0</td>\n",
       "      <td>0.0</td>\n",
       "      <td>20.259259</td>\n",
       "    </tr>\n",
       "    <tr>\n",
       "      <th>2</th>\n",
       "      <td>473747</td>\n",
       "      <td>1</td>\n",
       "      <td>3</td>\n",
       "      <td>3</td>\n",
       "      <td>12</td>\n",
       "      <td>21.0</td>\n",
       "      <td>False</td>\n",
       "      <td>196</td>\n",
       "      <td>1</td>\n",
       "      <td>1</td>\n",
       "      <td>...</td>\n",
       "      <td>married</td>\n",
       "      <td>40423</td>\n",
       "      <td>South</td>\n",
       "      <td>high_activity</td>\n",
       "      <td>family with older children</td>\n",
       "      <td>vegetarian</td>\n",
       "      <td>middle age adult</td>\n",
       "      <td>30.0</td>\n",
       "      <td>0.0</td>\n",
       "      <td>20.259259</td>\n",
       "    </tr>\n",
       "    <tr>\n",
       "      <th>3</th>\n",
       "      <td>2254736</td>\n",
       "      <td>1</td>\n",
       "      <td>4</td>\n",
       "      <td>4</td>\n",
       "      <td>7</td>\n",
       "      <td>29.0</td>\n",
       "      <td>False</td>\n",
       "      <td>196</td>\n",
       "      <td>1</td>\n",
       "      <td>1</td>\n",
       "      <td>...</td>\n",
       "      <td>married</td>\n",
       "      <td>40423</td>\n",
       "      <td>South</td>\n",
       "      <td>high_activity</td>\n",
       "      <td>family with older children</td>\n",
       "      <td>vegetarian</td>\n",
       "      <td>middle age adult</td>\n",
       "      <td>30.0</td>\n",
       "      <td>0.0</td>\n",
       "      <td>20.259259</td>\n",
       "    </tr>\n",
       "    <tr>\n",
       "      <th>4</th>\n",
       "      <td>431534</td>\n",
       "      <td>1</td>\n",
       "      <td>5</td>\n",
       "      <td>4</td>\n",
       "      <td>15</td>\n",
       "      <td>28.0</td>\n",
       "      <td>False</td>\n",
       "      <td>196</td>\n",
       "      <td>1</td>\n",
       "      <td>1</td>\n",
       "      <td>...</td>\n",
       "      <td>married</td>\n",
       "      <td>40423</td>\n",
       "      <td>South</td>\n",
       "      <td>high_activity</td>\n",
       "      <td>family with older children</td>\n",
       "      <td>vegetarian</td>\n",
       "      <td>middle age adult</td>\n",
       "      <td>30.0</td>\n",
       "      <td>0.0</td>\n",
       "      <td>20.259259</td>\n",
       "    </tr>\n",
       "  </tbody>\n",
       "</table>\n",
       "<p>5 rows × 43 columns</p>\n",
       "</div>"
      ],
      "text/plain": [
       "   order_id  user_id  order_number  orders_day_of_week  order_hour_of_day  \\\n",
       "0   2539329        1             1                   2                  8   \n",
       "1   2398795        1             2                   3                  7   \n",
       "2    473747        1             3                   3                 12   \n",
       "3   2254736        1             4                   4                  7   \n",
       "4    431534        1             5                   4                 15   \n",
       "\n",
       "   days_since_prior_order  new_customer  product_id  add_to_cart_order  \\\n",
       "0                     NaN          True         196                  1   \n",
       "1                    15.0         False         196                  1   \n",
       "2                    21.0         False         196                  1   \n",
       "3                    29.0         False         196                  1   \n",
       "4                    28.0         False         196                  1   \n",
       "\n",
       "   reordered  ... marital_status  income  region  activity_flag  \\\n",
       "0          0  ...        married   40423   South  high_activity   \n",
       "1          1  ...        married   40423   South  high_activity   \n",
       "2          1  ...        married   40423   South  high_activity   \n",
       "3          1  ...        married   40423   South  high_activity   \n",
       "4          1  ...        married   40423   South  high_activity   \n",
       "\n",
       "                family_status vegetarian_status      age_category  \\\n",
       "0  family with older children        vegetarian  middle age adult   \n",
       "1  family with older children        vegetarian  middle age adult   \n",
       "2  family with older children        vegetarian  middle age adult   \n",
       "3  family with older children        vegetarian  middle age adult   \n",
       "4  family with older children        vegetarian  middle age adult   \n",
       "\n",
       "  min_use_frequency max_use_frequency avg_use_frequency  \n",
       "0              30.0               0.0         20.259259  \n",
       "1              30.0               0.0         20.259259  \n",
       "2              30.0               0.0         20.259259  \n",
       "3              30.0               0.0         20.259259  \n",
       "4              30.0               0.0         20.259259  \n",
       "\n",
       "[5 rows x 43 columns]"
      ]
     },
     "execution_count": 30,
     "metadata": {},
     "output_type": "execute_result"
    }
   ],
   "source": [
    "df2.head()"
   ]
  },
  {
   "cell_type": "code",
   "execution_count": 31,
   "id": "cd189886",
   "metadata": {},
   "outputs": [],
   "source": [
    "# create an aggregation for customer expendures\n",
    "df2['max_expendure']=df2.groupby(['user_id'])['prices'].transform(np.max)"
   ]
  },
  {
   "cell_type": "code",
   "execution_count": 32,
   "id": "42263c64",
   "metadata": {},
   "outputs": [],
   "source": [
    "df2['min_expendure']=df2.groupby(['user_id'])['prices'].transform(np.min)"
   ]
  },
  {
   "cell_type": "code",
   "execution_count": 33,
   "id": "4def9b9e",
   "metadata": {},
   "outputs": [],
   "source": [
    "df2['avg_expendure']=df2.groupby(['user_id'])['prices'].transform(np.mean)"
   ]
  },
  {
   "cell_type": "code",
   "execution_count": 34,
   "id": "dfd2b055",
   "metadata": {},
   "outputs": [
    {
     "data": {
      "text/html": [
       "<div>\n",
       "<style scoped>\n",
       "    .dataframe tbody tr th:only-of-type {\n",
       "        vertical-align: middle;\n",
       "    }\n",
       "\n",
       "    .dataframe tbody tr th {\n",
       "        vertical-align: top;\n",
       "    }\n",
       "\n",
       "    .dataframe thead th {\n",
       "        text-align: right;\n",
       "    }\n",
       "</style>\n",
       "<table border=\"1\" class=\"dataframe\">\n",
       "  <thead>\n",
       "    <tr style=\"text-align: right;\">\n",
       "      <th></th>\n",
       "      <th>order_id</th>\n",
       "      <th>user_id</th>\n",
       "      <th>order_number</th>\n",
       "      <th>orders_day_of_week</th>\n",
       "      <th>order_hour_of_day</th>\n",
       "      <th>days_since_prior_order</th>\n",
       "      <th>new_customer</th>\n",
       "      <th>product_id</th>\n",
       "      <th>add_to_cart_order</th>\n",
       "      <th>reordered</th>\n",
       "      <th>...</th>\n",
       "      <th>activity_flag</th>\n",
       "      <th>family_status</th>\n",
       "      <th>vegetarian_status</th>\n",
       "      <th>age_category</th>\n",
       "      <th>min_use_frequency</th>\n",
       "      <th>max_use_frequency</th>\n",
       "      <th>avg_use_frequency</th>\n",
       "      <th>max_expendure</th>\n",
       "      <th>min_expendure</th>\n",
       "      <th>avg_expendure</th>\n",
       "    </tr>\n",
       "  </thead>\n",
       "  <tbody>\n",
       "    <tr>\n",
       "      <th>0</th>\n",
       "      <td>2539329</td>\n",
       "      <td>1</td>\n",
       "      <td>1</td>\n",
       "      <td>2</td>\n",
       "      <td>8</td>\n",
       "      <td>NaN</td>\n",
       "      <td>True</td>\n",
       "      <td>196</td>\n",
       "      <td>1</td>\n",
       "      <td>0</td>\n",
       "      <td>...</td>\n",
       "      <td>high_activity</td>\n",
       "      <td>family with older children</td>\n",
       "      <td>vegetarian</td>\n",
       "      <td>middle age adult</td>\n",
       "      <td>30.0</td>\n",
       "      <td>0.0</td>\n",
       "      <td>20.259259</td>\n",
       "      <td>14.0</td>\n",
       "      <td>1.0</td>\n",
       "      <td>6.367797</td>\n",
       "    </tr>\n",
       "    <tr>\n",
       "      <th>1</th>\n",
       "      <td>2398795</td>\n",
       "      <td>1</td>\n",
       "      <td>2</td>\n",
       "      <td>3</td>\n",
       "      <td>7</td>\n",
       "      <td>15.0</td>\n",
       "      <td>False</td>\n",
       "      <td>196</td>\n",
       "      <td>1</td>\n",
       "      <td>1</td>\n",
       "      <td>...</td>\n",
       "      <td>high_activity</td>\n",
       "      <td>family with older children</td>\n",
       "      <td>vegetarian</td>\n",
       "      <td>middle age adult</td>\n",
       "      <td>30.0</td>\n",
       "      <td>0.0</td>\n",
       "      <td>20.259259</td>\n",
       "      <td>14.0</td>\n",
       "      <td>1.0</td>\n",
       "      <td>6.367797</td>\n",
       "    </tr>\n",
       "    <tr>\n",
       "      <th>2</th>\n",
       "      <td>473747</td>\n",
       "      <td>1</td>\n",
       "      <td>3</td>\n",
       "      <td>3</td>\n",
       "      <td>12</td>\n",
       "      <td>21.0</td>\n",
       "      <td>False</td>\n",
       "      <td>196</td>\n",
       "      <td>1</td>\n",
       "      <td>1</td>\n",
       "      <td>...</td>\n",
       "      <td>high_activity</td>\n",
       "      <td>family with older children</td>\n",
       "      <td>vegetarian</td>\n",
       "      <td>middle age adult</td>\n",
       "      <td>30.0</td>\n",
       "      <td>0.0</td>\n",
       "      <td>20.259259</td>\n",
       "      <td>14.0</td>\n",
       "      <td>1.0</td>\n",
       "      <td>6.367797</td>\n",
       "    </tr>\n",
       "    <tr>\n",
       "      <th>3</th>\n",
       "      <td>2254736</td>\n",
       "      <td>1</td>\n",
       "      <td>4</td>\n",
       "      <td>4</td>\n",
       "      <td>7</td>\n",
       "      <td>29.0</td>\n",
       "      <td>False</td>\n",
       "      <td>196</td>\n",
       "      <td>1</td>\n",
       "      <td>1</td>\n",
       "      <td>...</td>\n",
       "      <td>high_activity</td>\n",
       "      <td>family with older children</td>\n",
       "      <td>vegetarian</td>\n",
       "      <td>middle age adult</td>\n",
       "      <td>30.0</td>\n",
       "      <td>0.0</td>\n",
       "      <td>20.259259</td>\n",
       "      <td>14.0</td>\n",
       "      <td>1.0</td>\n",
       "      <td>6.367797</td>\n",
       "    </tr>\n",
       "    <tr>\n",
       "      <th>4</th>\n",
       "      <td>431534</td>\n",
       "      <td>1</td>\n",
       "      <td>5</td>\n",
       "      <td>4</td>\n",
       "      <td>15</td>\n",
       "      <td>28.0</td>\n",
       "      <td>False</td>\n",
       "      <td>196</td>\n",
       "      <td>1</td>\n",
       "      <td>1</td>\n",
       "      <td>...</td>\n",
       "      <td>high_activity</td>\n",
       "      <td>family with older children</td>\n",
       "      <td>vegetarian</td>\n",
       "      <td>middle age adult</td>\n",
       "      <td>30.0</td>\n",
       "      <td>0.0</td>\n",
       "      <td>20.259259</td>\n",
       "      <td>14.0</td>\n",
       "      <td>1.0</td>\n",
       "      <td>6.367797</td>\n",
       "    </tr>\n",
       "  </tbody>\n",
       "</table>\n",
       "<p>5 rows × 46 columns</p>\n",
       "</div>"
      ],
      "text/plain": [
       "   order_id  user_id  order_number  orders_day_of_week  order_hour_of_day  \\\n",
       "0   2539329        1             1                   2                  8   \n",
       "1   2398795        1             2                   3                  7   \n",
       "2    473747        1             3                   3                 12   \n",
       "3   2254736        1             4                   4                  7   \n",
       "4    431534        1             5                   4                 15   \n",
       "\n",
       "   days_since_prior_order  new_customer  product_id  add_to_cart_order  \\\n",
       "0                     NaN          True         196                  1   \n",
       "1                    15.0         False         196                  1   \n",
       "2                    21.0         False         196                  1   \n",
       "3                    29.0         False         196                  1   \n",
       "4                    28.0         False         196                  1   \n",
       "\n",
       "   reordered  ...  activity_flag               family_status  \\\n",
       "0          0  ...  high_activity  family with older children   \n",
       "1          1  ...  high_activity  family with older children   \n",
       "2          1  ...  high_activity  family with older children   \n",
       "3          1  ...  high_activity  family with older children   \n",
       "4          1  ...  high_activity  family with older children   \n",
       "\n",
       "   vegetarian_status      age_category min_use_frequency max_use_frequency  \\\n",
       "0         vegetarian  middle age adult              30.0               0.0   \n",
       "1         vegetarian  middle age adult              30.0               0.0   \n",
       "2         vegetarian  middle age adult              30.0               0.0   \n",
       "3         vegetarian  middle age adult              30.0               0.0   \n",
       "4         vegetarian  middle age adult              30.0               0.0   \n",
       "\n",
       "  avg_use_frequency max_expendure min_expendure avg_expendure  \n",
       "0         20.259259          14.0           1.0      6.367797  \n",
       "1         20.259259          14.0           1.0      6.367797  \n",
       "2         20.259259          14.0           1.0      6.367797  \n",
       "3         20.259259          14.0           1.0      6.367797  \n",
       "4         20.259259          14.0           1.0      6.367797  \n",
       "\n",
       "[5 rows x 46 columns]"
      ]
     },
     "execution_count": 34,
     "metadata": {},
     "output_type": "execute_result"
    }
   ],
   "source": [
    "df2.head()"
   ]
  },
  {
   "cell_type": "markdown",
   "id": "c2df8d44",
   "metadata": {},
   "source": [
    "# Visualizations"
   ]
  },
  {
   "cell_type": "code",
   "execution_count": 35,
   "id": "dff2f812",
   "metadata": {},
   "outputs": [
    {
     "data": {
      "image/png": "[encoded data removed]",
      "text/plain": [
       "<Figure size 640x480 with 1 Axes>"
      ]
     },
     "metadata": {},
     "output_type": "display_data"
    }
   ],
   "source": [
    "# create a bar chart to show the distribution of the family_status column\n",
    "family_bar=df2['family_status'].value_counts().plot.bar(color=['red', 'blue', 'yellow'])"
   ]
  },
  {
   "cell_type": "markdown",
   "id": "e4cfee64",
   "metadata": {},
   "source": [
    "# Instacart has more orders from families with older children (dependents who have aged out the baby product department)."
   ]
  },
  {
   "cell_type": "code",
   "execution_count": 36,
   "id": "a803bd7c",
   "metadata": {},
   "outputs": [],
   "source": [
    "# saving the bar chart above\n",
    "family_bar.figure.savefig(os.path.join(path, '04 Analysis', 'Visualizations', 'family_status_bar.png'))"
   ]
  },
  {
   "cell_type": "code",
   "execution_count": 37,
   "id": "018ca7f3",
   "metadata": {},
   "outputs": [
    {
     "data": {
      "image/png": "[encoded data removed]",
      "text/plain": [
       "<Figure size 640x480 with 1 Axes>"
      ]
     },
     "metadata": {},
     "output_type": "display_data"
    }
   ],
   "source": [
    "# Create a bar chart from the vegetarian status bar\n",
    "veggie_status_bar=df2['vegetarian_status'].value_counts().plot.bar(color=['green', 'red'])"
   ]
  },
  {
   "cell_type": "markdown",
   "id": "3aef7941",
   "metadata": {},
   "source": [
    "# Instacart recieves more orders from vegetarians (those who don't consume meat, seafood, or deli items) than those who do eat meat. Though these orders could be from customers who didn't need to order meat or seafood at the time. More data about these customers would be necessary to fully determine this theory."
   ]
  },
  {
   "cell_type": "code",
   "execution_count": 38,
   "id": "16a408d7",
   "metadata": {},
   "outputs": [],
   "source": [
    "# saving the vegetarian status bar chart\n",
    "veggie_status_bar.figure.savefig(os.path.join(path, '04 Analysis', 'Visualizations', 'vegetarian_staus_bar.png'))"
   ]
  },
  {
   "cell_type": "code",
   "execution_count": 39,
   "id": "f4ec7c05",
   "metadata": {},
   "outputs": [
    {
     "data": {
      "image/png": "[encoded data removed]",
      "text/plain": [
       "<Figure size 640x480 with 1 Axes>"
      ]
     },
     "metadata": {},
     "output_type": "display_data"
    }
   ],
   "source": [
    "# create a histogram using the age column\n",
    "age_hist=df2['age'].plot.hist(bins=5)"
   ]
  },
  {
   "cell_type": "code",
   "execution_count": 40,
   "id": "944ab475",
   "metadata": {},
   "outputs": [
    {
     "data": {
      "image/png": "[encoded data removed]",
      "text/plain": [
       "<Figure size 640x480 with 1 Axes>"
      ]
     },
     "metadata": {},
     "output_type": "display_data"
    }
   ],
   "source": [
    "# create  bar chart using the age_category column\n",
    "age_cat_bar=df2['age_category'].value_counts().plot.bar(color=['green', 'blue', 'yellow', 'red'])"
   ]
  },
  {
   "cell_type": "markdown",
   "id": "755bacb1",
   "metadata": {},
   "source": [
    "# as you can see in both the histogram and the bar chart above Instacarts orders come from mostly middle age adults and seniors (30-45, 60 and above)"
   ]
  },
  {
   "cell_type": "code",
   "execution_count": 41,
   "id": "4bee8240",
   "metadata": {},
   "outputs": [],
   "source": [
    "#saving histogram as png\n",
    "age_hist.figure.savefig(os.path.join(path, '04 Analysis', 'Visualizations', 'age_hist.png'))"
   ]
  },
  {
   "cell_type": "code",
   "execution_count": 42,
   "id": "2ba954f1",
   "metadata": {},
   "outputs": [],
   "source": [
    "#saving age_category bar chart\n",
    "age_cat_bar.figure.savefig(os.path.join(path, '04 Analysis', 'Visualizations', 'age_cat_bar.png'))"
   ]
  },
  {
   "cell_type": "code",
   "execution_count": 43,
   "id": "018c3e4f",
   "metadata": {},
   "outputs": [],
   "source": [
    "crosstab_spender_region = pd.crosstab(df2['region'], df2['spender_flag'], dropna=False)"
   ]
  },
  {
   "cell_type": "code",
   "execution_count": 44,
   "id": "7615385f",
   "metadata": {},
   "outputs": [
    {
     "data": {
      "text/html": [
       "<div>\n",
       "<style scoped>\n",
       "    .dataframe tbody tr th:only-of-type {\n",
       "        vertical-align: middle;\n",
       "    }\n",
       "\n",
       "    .dataframe tbody tr th {\n",
       "        vertical-align: top;\n",
       "    }\n",
       "\n",
       "    .dataframe thead th {\n",
       "        text-align: right;\n",
       "    }\n",
       "</style>\n",
       "<table border=\"1\" class=\"dataframe\">\n",
       "  <thead>\n",
       "    <tr style=\"text-align: right;\">\n",
       "      <th>spender_flag</th>\n",
       "      <th>High spender</th>\n",
       "      <th>Low spender</th>\n",
       "    </tr>\n",
       "    <tr>\n",
       "      <th>region</th>\n",
       "      <th></th>\n",
       "      <th></th>\n",
       "    </tr>\n",
       "  </thead>\n",
       "  <tbody>\n",
       "    <tr>\n",
       "      <th>Midwest</th>\n",
       "      <td>148678</td>\n",
       "      <td>7112835</td>\n",
       "    </tr>\n",
       "    <tr>\n",
       "      <th>North East</th>\n",
       "      <td>90144</td>\n",
       "      <td>4792287</td>\n",
       "    </tr>\n",
       "    <tr>\n",
       "      <th>South</th>\n",
       "      <td>199339</td>\n",
       "      <td>10111800</td>\n",
       "    </tr>\n",
       "    <tr>\n",
       "      <th>West</th>\n",
       "      <td>165264</td>\n",
       "      <td>8344217</td>\n",
       "    </tr>\n",
       "  </tbody>\n",
       "</table>\n",
       "</div>"
      ],
      "text/plain": [
       "spender_flag  High spender  Low spender\n",
       "region                                 \n",
       "Midwest             148678      7112835\n",
       "North East           90144      4792287\n",
       "South               199339     10111800\n",
       "West                165264      8344217"
      ]
     },
     "execution_count": 44,
     "metadata": {},
     "output_type": "execute_result"
    }
   ],
   "source": [
    "crosstab_spender_region"
   ]
  },
  {
   "cell_type": "code",
   "execution_count": 45,
   "id": "db4e81c9",
   "metadata": {},
   "outputs": [],
   "source": [
    "# Crosstuabulate customer family status by region\n",
    "crosstab_family_status=pd.crosstab(df2['region'],df2['family_status'], dropna=False)"
   ]
  },
  {
   "cell_type": "code",
   "execution_count": 46,
   "id": "3b615ab1",
   "metadata": {},
   "outputs": [
    {
     "data": {
      "text/html": [
       "<div>\n",
       "<style scoped>\n",
       "    .dataframe tbody tr th:only-of-type {\n",
       "        vertical-align: middle;\n",
       "    }\n",
       "\n",
       "    .dataframe tbody tr th {\n",
       "        vertical-align: top;\n",
       "    }\n",
       "\n",
       "    .dataframe thead th {\n",
       "        text-align: right;\n",
       "    }\n",
       "</style>\n",
       "<table border=\"1\" class=\"dataframe\">\n",
       "  <thead>\n",
       "    <tr style=\"text-align: right;\">\n",
       "      <th>family_status</th>\n",
       "      <th>family with older children</th>\n",
       "      <th>family with young children</th>\n",
       "      <th>no children</th>\n",
       "    </tr>\n",
       "    <tr>\n",
       "      <th>region</th>\n",
       "      <th></th>\n",
       "      <th></th>\n",
       "      <th></th>\n",
       "    </tr>\n",
       "  </thead>\n",
       "  <tbody>\n",
       "    <tr>\n",
       "      <th>Midwest</th>\n",
       "      <td>5367664</td>\n",
       "      <td>71033</td>\n",
       "      <td>1822816</td>\n",
       "    </tr>\n",
       "    <tr>\n",
       "      <th>North East</th>\n",
       "      <td>3619508</td>\n",
       "      <td>48037</td>\n",
       "      <td>1214886</td>\n",
       "    </tr>\n",
       "    <tr>\n",
       "      <th>South</th>\n",
       "      <td>7624975</td>\n",
       "      <td>104231</td>\n",
       "      <td>2581933</td>\n",
       "    </tr>\n",
       "    <tr>\n",
       "      <th>West</th>\n",
       "      <td>6305672</td>\n",
       "      <td>83763</td>\n",
       "      <td>2120046</td>\n",
       "    </tr>\n",
       "  </tbody>\n",
       "</table>\n",
       "</div>"
      ],
      "text/plain": [
       "family_status  family with older children  family with young children  \\\n",
       "region                                                                  \n",
       "Midwest                           5367664                       71033   \n",
       "North East                        3619508                       48037   \n",
       "South                             7624975                      104231   \n",
       "West                              6305672                       83763   \n",
       "\n",
       "family_status  no children  \n",
       "region                      \n",
       "Midwest            1822816  \n",
       "North East         1214886  \n",
       "South              2581933  \n",
       "West               2120046  "
      ]
     },
     "execution_count": 46,
     "metadata": {},
     "output_type": "execute_result"
    }
   ],
   "source": [
    "crosstab_family_status"
   ]
  },
  {
   "cell_type": "code",
   "execution_count": 47,
   "id": "2c8c73e1",
   "metadata": {},
   "outputs": [],
   "source": [
    "#Crosstab for vegetarian status by region\n",
    "crosstab_vegetarian_status=pd.crosstab(df2['region'],df2['vegetarian_status'], dropna=False)"
   ]
  },
  {
   "cell_type": "code",
   "execution_count": 48,
   "id": "df9ee13b",
   "metadata": {},
   "outputs": [
    {
     "data": {
      "text/html": [
       "<div>\n",
       "<style scoped>\n",
       "    .dataframe tbody tr th:only-of-type {\n",
       "        vertical-align: middle;\n",
       "    }\n",
       "\n",
       "    .dataframe tbody tr th {\n",
       "        vertical-align: top;\n",
       "    }\n",
       "\n",
       "    .dataframe thead th {\n",
       "        text-align: right;\n",
       "    }\n",
       "</style>\n",
       "<table border=\"1\" class=\"dataframe\">\n",
       "  <thead>\n",
       "    <tr style=\"text-align: right;\">\n",
       "      <th>vegetarian_status</th>\n",
       "      <th>not vegetarian</th>\n",
       "      <th>vegetarian</th>\n",
       "    </tr>\n",
       "    <tr>\n",
       "      <th>region</th>\n",
       "      <th></th>\n",
       "      <th></th>\n",
       "    </tr>\n",
       "  </thead>\n",
       "  <tbody>\n",
       "    <tr>\n",
       "      <th>Midwest</th>\n",
       "      <td>392724</td>\n",
       "      <td>6868789</td>\n",
       "    </tr>\n",
       "    <tr>\n",
       "      <th>North East</th>\n",
       "      <td>266700</td>\n",
       "      <td>4615731</td>\n",
       "    </tr>\n",
       "    <tr>\n",
       "      <th>South</th>\n",
       "      <td>557740</td>\n",
       "      <td>9753399</td>\n",
       "    </tr>\n",
       "    <tr>\n",
       "      <th>West</th>\n",
       "      <td>461451</td>\n",
       "      <td>8048030</td>\n",
       "    </tr>\n",
       "  </tbody>\n",
       "</table>\n",
       "</div>"
      ],
      "text/plain": [
       "vegetarian_status  not vegetarian  vegetarian\n",
       "region                                       \n",
       "Midwest                    392724     6868789\n",
       "North East                 266700     4615731\n",
       "South                      557740     9753399\n",
       "West                       461451     8048030"
      ]
     },
     "execution_count": 48,
     "metadata": {},
     "output_type": "execute_result"
    }
   ],
   "source": [
    "crosstab_vegetarian_status"
   ]
  },
  {
   "cell_type": "code",
   "execution_count": 49,
   "id": "63ade686",
   "metadata": {},
   "outputs": [],
   "source": [
    "#Crosstab for age_category by region\n",
    "crosstab_age_cat=pd.crosstab(df2['region'],df2['age_category'], dropna=False)"
   ]
  },
  {
   "cell_type": "code",
   "execution_count": 50,
   "id": "2902dfaf",
   "metadata": {},
   "outputs": [
    {
     "data": {
      "text/html": [
       "<div>\n",
       "<style scoped>\n",
       "    .dataframe tbody tr th:only-of-type {\n",
       "        vertical-align: middle;\n",
       "    }\n",
       "\n",
       "    .dataframe tbody tr th {\n",
       "        vertical-align: top;\n",
       "    }\n",
       "\n",
       "    .dataframe thead th {\n",
       "        text-align: right;\n",
       "    }\n",
       "</style>\n",
       "<table border=\"1\" class=\"dataframe\">\n",
       "  <thead>\n",
       "    <tr style=\"text-align: right;\">\n",
       "      <th>age_category</th>\n",
       "      <th>middle age adult</th>\n",
       "      <th>older adult</th>\n",
       "      <th>senior</th>\n",
       "      <th>young adult</th>\n",
       "    </tr>\n",
       "    <tr>\n",
       "      <th>region</th>\n",
       "      <th></th>\n",
       "      <th></th>\n",
       "      <th></th>\n",
       "      <th></th>\n",
       "    </tr>\n",
       "  </thead>\n",
       "  <tbody>\n",
       "    <tr>\n",
       "      <th>Midwest</th>\n",
       "      <td>1828392</td>\n",
       "      <td>1621840</td>\n",
       "      <td>2356770</td>\n",
       "      <td>1355838</td>\n",
       "    </tr>\n",
       "    <tr>\n",
       "      <th>North East</th>\n",
       "      <td>1202918</td>\n",
       "      <td>1069917</td>\n",
       "      <td>1624331</td>\n",
       "      <td>919419</td>\n",
       "    </tr>\n",
       "    <tr>\n",
       "      <th>South</th>\n",
       "      <td>2615609</td>\n",
       "      <td>2213458</td>\n",
       "      <td>3361229</td>\n",
       "      <td>1960651</td>\n",
       "    </tr>\n",
       "    <tr>\n",
       "      <th>West</th>\n",
       "      <td>2102535</td>\n",
       "      <td>1917788</td>\n",
       "      <td>2770277</td>\n",
       "      <td>1581695</td>\n",
       "    </tr>\n",
       "  </tbody>\n",
       "</table>\n",
       "</div>"
      ],
      "text/plain": [
       "age_category  middle age adult  older adult   senior  young adult\n",
       "region                                                           \n",
       "Midwest                1828392      1621840  2356770      1355838\n",
       "North East             1202918      1069917  1624331       919419\n",
       "South                  2615609      2213458  3361229      1960651\n",
       "West                   2102535      1917788  2770277      1581695"
      ]
     },
     "execution_count": 50,
     "metadata": {},
     "output_type": "execute_result"
    }
   ],
   "source": [
    "crosstab_age_cat"
   ]
  },
  {
   "cell_type": "code",
   "execution_count": 75,
   "id": "8e362ad5",
   "metadata": {},
   "outputs": [],
   "source": [
    "# crosstab for loyalty_flag by region\n",
    "crosstab_loyalty_spender=pd.crosstab(df2['loyalty_flag'], df2['spender_flag'], dropna=False)"
   ]
  },
  {
   "cell_type": "code",
   "execution_count": 76,
   "id": "5429fd08",
   "metadata": {},
   "outputs": [
    {
     "data": {
      "text/html": [
       "<div>\n",
       "<style scoped>\n",
       "    .dataframe tbody tr th:only-of-type {\n",
       "        vertical-align: middle;\n",
       "    }\n",
       "\n",
       "    .dataframe tbody tr th {\n",
       "        vertical-align: top;\n",
       "    }\n",
       "\n",
       "    .dataframe thead th {\n",
       "        text-align: right;\n",
       "    }\n",
       "</style>\n",
       "<table border=\"1\" class=\"dataframe\">\n",
       "  <thead>\n",
       "    <tr style=\"text-align: right;\">\n",
       "      <th>spender_flag</th>\n",
       "      <th>High spender</th>\n",
       "      <th>Low spender</th>\n",
       "    </tr>\n",
       "    <tr>\n",
       "      <th>loyalty_flag</th>\n",
       "      <th></th>\n",
       "      <th></th>\n",
       "    </tr>\n",
       "  </thead>\n",
       "  <tbody>\n",
       "    <tr>\n",
       "      <th>Loyal customer</th>\n",
       "      <td>216600</td>\n",
       "      <td>10067493</td>\n",
       "    </tr>\n",
       "    <tr>\n",
       "      <th>New customer</th>\n",
       "      <td>84011</td>\n",
       "      <td>4719684</td>\n",
       "    </tr>\n",
       "    <tr>\n",
       "      <th>Regular customer</th>\n",
       "      <td>302814</td>\n",
       "      <td>15573962</td>\n",
       "    </tr>\n",
       "  </tbody>\n",
       "</table>\n",
       "</div>"
      ],
      "text/plain": [
       "spender_flag      High spender  Low spender\n",
       "loyalty_flag                               \n",
       "Loyal customer          216600     10067493\n",
       "New customer             84011      4719684\n",
       "Regular customer        302814     15573962"
      ]
     },
     "execution_count": 76,
     "metadata": {},
     "output_type": "execute_result"
    }
   ],
   "source": [
    "crosstab_loyalty_spender"
   ]
  },
  {
   "cell_type": "markdown",
   "id": "7f18875f",
   "metadata": {},
   "source": [
    "# Creating Appropiate visualizations for analysis"
   ]
  },
  {
   "cell_type": "code",
   "execution_count": 53,
   "id": "90959d3b",
   "metadata": {},
   "outputs": [
    {
     "data": {
      "image/png": "[encoded data removed]",
      "text/plain": [
       "<Figure size 640x480 with 1 Axes>"
      ]
     },
     "metadata": {},
     "output_type": "display_data"
    }
   ],
   "source": [
    "bar2 = crosstab_age_cat.plot(kind= 'bar', stacked = True)"
   ]
  },
  {
   "cell_type": "code",
   "execution_count": 54,
   "id": "62cc8e70",
   "metadata": {},
   "outputs": [],
   "source": [
    "#saving bar chart for age category distrubution by reagion\n",
    "bar2.figure.savefig(os.path.join(path, '04 Analysis', 'Visualizations', 'age_region_chart.png'))"
   ]
  },
  {
   "cell_type": "code",
   "execution_count": 55,
   "id": "205bb6df",
   "metadata": {},
   "outputs": [
    {
     "data": {
      "image/png": "[encoded data removed]",
      "text/plain": [
       "<Figure size 640x480 with 1 Axes>"
      ]
     },
     "metadata": {},
     "output_type": "display_data"
    }
   ],
   "source": [
    "bar3 = crosstab_vegetarian_status.plot(kind= 'bar', stacked = True)"
   ]
  },
  {
   "cell_type": "code",
   "execution_count": 69,
   "id": "93ad25f9",
   "metadata": {},
   "outputs": [
    {
     "data": {
      "image/png": "[encoded data removed]",
      "text/plain": [
       "<Figure size 640x480 with 1 Axes>"
      ]
     },
     "metadata": {},
     "output_type": "display_data"
    }
   ],
   "source": [
    "bar4 = crosstab_spender_region.plot(kind= 'bar', stacked=True)"
   ]
  },
  {
   "cell_type": "code",
   "execution_count": 57,
   "id": "2a316f85",
   "metadata": {},
   "outputs": [],
   "source": [
    "#saving spender_region chart and vegetarian by region chart\n",
    "bar3.figure.savefig(os.path.join(path, '04 Analysis', 'Visualizations', 'veggie_region.png'))\n",
    "bar4.figure.savefig(os.path.join(path, '04 Analysis', 'Visualizations', 'spender_region_chart.png'))"
   ]
  },
  {
   "cell_type": "code",
   "execution_count": 64,
   "id": "6a07e0b4",
   "metadata": {},
   "outputs": [
    {
     "data": {
      "image/png": "[encoded data removed]",
      "text/plain": [
       "<Figure size 640x480 with 1 Axes>"
      ]
     },
     "metadata": {},
     "output_type": "display_data"
    }
   ],
   "source": [
    "# creating pie chart to show distribution among customer loyalty\n",
    "pie1 = df2['loyalty_flag'].value_counts().plot.pie(y= 'loyalty_flag', autopct=('%1.f%%'), colors=['red', 'blue', 'green'])"
   ]
  },
  {
   "cell_type": "code",
   "execution_count": 65,
   "id": "6c82cc92",
   "metadata": {},
   "outputs": [],
   "source": [
    "#saving pie chart\n",
    "pie1.figure.savefig(os.path.join(path, '04 Analysis', 'Visualizations', 'Loyalty_pie_chart.png'))"
   ]
  },
  {
   "cell_type": "code",
   "execution_count": 77,
   "id": "2bda5ee1",
   "metadata": {},
   "outputs": [
    {
     "data": {
      "text/plain": [
       "family with older children    22917819\n",
       "no children                    7739681\n",
       "family with young children      307064\n",
       "Name: family_status, dtype: int64"
      ]
     },
     "execution_count": 77,
     "metadata": {},
     "output_type": "execute_result"
    }
   ],
   "source": [
    "df2['family_status'].value_counts()"
   ]
  },
  {
   "cell_type": "code",
   "execution_count": 86,
   "id": "61f9b84c",
   "metadata": {},
   "outputs": [
    {
     "data": {
      "text/plain": [
       "family_status\n",
       "family with older children    7.790423\n",
       "family with young children    7.829417\n",
       "no children                   7.789552\n",
       "Name: avg_expendure, dtype: float64"
      ]
     },
     "execution_count": 86,
     "metadata": {},
     "output_type": "execute_result"
    }
   ],
   "source": [
    "# To see how much on average each group in family_status spends\n",
    "df2.groupby('family_status')['avg_expendure'].mean()"
   ]
  },
  {
   "cell_type": "code",
   "execution_count": 82,
   "id": "742e09ba",
   "metadata": {},
   "outputs": [
    {
     "data": {
      "image/png": "[encoded data removed]",
      "text/plain": [
       "<Figure size 640x480 with 1 Axes>"
      ]
     },
     "metadata": {},
     "output_type": "display_data"
    }
   ],
   "source": [
    "#create pie chart for family status and ordering connection\n",
    "pie2 =df2['family_status'].value_counts().plot.pie(y= 'family_status', autopct=('%1.f%%'), colors=['red', 'blue', 'orange'])"
   ]
  },
  {
   "cell_type": "code",
   "execution_count": 83,
   "id": "ac6e5d15",
   "metadata": {},
   "outputs": [],
   "source": [
    "#saving pie chart\n",
    "pie2.figure.savefig(os.path.join(path, '04 Analysis', 'Visualizations', 'family_status_pie.png'))"
   ]
  },
  {
   "cell_type": "code",
   "execution_count": 87,
   "id": "c43a7c6b",
   "metadata": {},
   "outputs": [
    {
     "data": {
      "text/plain": [
       "age_category\n",
       "middle age adult    7.791948\n",
       "older adult         7.788695\n",
       "senior              7.796140\n",
       "young adult         7.782193\n",
       "Name: avg_expendure, dtype: float64"
      ]
     },
     "execution_count": 87,
     "metadata": {},
     "output_type": "execute_result"
    }
   ],
   "source": [
    "#To see how much on average each group in age_category spends\n",
    "df2.groupby('age_category')['avg_expendure'].mean()"
   ]
  },
  {
   "cell_type": "code",
   "execution_count": 88,
   "id": "f9f6ee4e",
   "metadata": {},
   "outputs": [
    {
     "data": {
      "text/plain": [
       "vegetarian_status\n",
       "not vegetarian    7.920181\n",
       "vegetarian        7.783164\n",
       "Name: avg_expendure, dtype: float64"
      ]
     },
     "execution_count": 88,
     "metadata": {},
     "output_type": "execute_result"
    }
   ],
   "source": [
    "#To see how much on average Vegetarians spend vs. non-vegetarians\n",
    "df2.groupby('vegetarian_status')['avg_expendure'].mean()"
   ]
  },
  {
   "cell_type": "code",
   "execution_count": 91,
   "id": "89e261e7",
   "metadata": {},
   "outputs": [
    {
     "data": {
      "text/plain": [
       "(30964564, 46)"
      ]
     },
     "execution_count": 91,
     "metadata": {},
     "output_type": "execute_result"
    }
   ],
   "source": [
    "df2.shape"
   ]
  },
  {
   "cell_type": "code",
   "execution_count": 90,
   "id": "af5f85de",
   "metadata": {},
   "outputs": [],
   "source": [
    "df2.to_pickle(os.path.join(path, '02 Data', 'Prepared data', 'final_project_dataset'))"
   ]
  },
  {
   "cell_type": "code",
   "execution_count": null,
   "id": "897f4990",
   "metadata": {},
   "outputs": [],
   "source": []
  }
 ],
 "metadata": {
  "kernelspec": {
   "display_name": "Python 3 (ipykernel)",
   "language": "python",
   "name": "python3"
  },
  "language_info": {
   "codemirror_mode": {
    "name": "ipython",
    "version": 3
   },
   "file_extension": ".py",
   "mimetype": "text/x-python",
   "name": "python",
   "nbconvert_exporter": "python",
   "pygments_lexer": "ipython3",
   "version": "3.9.13"
  }
 },
 "nbformat": 4,
 "nbformat_minor": 5
}
